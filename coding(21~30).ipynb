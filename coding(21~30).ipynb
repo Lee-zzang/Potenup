{
 "cells": [
  {
   "cell_type": "code",
   "execution_count": null,
   "id": "fc2b52d1",
   "metadata": {},
   "outputs": [
    {
     "name": "stdout",
     "output_type": "stream",
     "text": [
      "p t\n"
     ]
    }
   ],
   "source": [
    "# letters가 바인딩하는 문자열에서 첫번째와 세번째 문자를 출력하세요.\n",
    "# letters = 'python'\n",
    "# # 실행 예 p t\n",
    "\n",
    "letters = 'python'\n",
    "\n",
    "print(letters[0], letters[2])\n",
    "\n",
    "# letters[0][2], [0],[2]인줄 알았는데 전혀 아니였다. \n",
    "# 길이가 1인 문자열이기 때문에 0번 인덱스만 존재하게 된다. 즉, 내가 한대로 하면 행렬로 인식한다."
   ]
  },
  {
   "cell_type": "code",
   "execution_count": null,
   "id": "7dda00e1",
   "metadata": {},
   "outputs": [
    {
     "name": "stdout",
     "output_type": "stream",
     "text": [
      "2210\n"
     ]
    }
   ],
   "source": [
    "# 자동차 번호가 다음과 같을 때 뒤에 4자리만 출력하세요.\n",
    "license_plate = \"24가 2210\"\n",
    "print(license_plate[-4:])\n",
    "\n",
    "# 장소를 옮겨서 해도 긴장하지 않고 할 수 있도록 하자."
   ]
  },
  {
   "cell_type": "code",
   "execution_count": null,
   "id": "29e820a8",
   "metadata": {},
   "outputs": [
    {
     "name": "stdout",
     "output_type": "stream",
     "text": [
      "홀홀홀\n"
     ]
    }
   ],
   "source": [
    "# 아래의 문자열에서 '홀' 만 출력하세요.\n",
    "string = \"홀짝홀짝홀짝\"\n",
    "print(string[: : 2])\n",
    "\n",
    "# 1. string[ : , ] 인줄 알았다.\n",
    "# 2. 그러나 아니였다. 그래서 고민하다가 [ :  : ] 을 찾음"
   ]
  },
  {
   "cell_type": "code",
   "execution_count": null,
   "id": "63397cdb",
   "metadata": {},
   "outputs": [
    {
     "name": "stdout",
     "output_type": "stream",
     "text": [
      "NOHTYP\n"
     ]
    }
   ],
   "source": [
    "# 문자열을 거꾸로 뒤집어 출력하세요.\n",
    "string = \"PYTHON\"\n",
    "print(string[: : -1])\n",
    "\n",
    "# 1. 거꾸로 뒤집는다는 말을 또 어렵게 꼬아서 생각하고 있었다. "
   ]
  },
  {
   "cell_type": "code",
   "execution_count": null,
   "id": "ffeaefcc",
   "metadata": {},
   "outputs": [
    {
     "data": {
      "text/plain": [
       "'010 1111 2222'"
      ]
     },
     "execution_count": 6,
     "metadata": {},
     "output_type": "execute_result"
    }
   ],
   "source": [
    "# 아래의 전화번호에서 하이푼 ('-')을 제거하고 출력하세요.\n",
    "\n",
    "phone_number = \"010-1111-2222\"\n",
    "\n",
    "phone_number.replace(\"-\" , \" \")\n",
    "\n",
    "# print를 하지 않아도 자료가 뜨는게 신기하다. \n",
    "# 인터프리터 환경에서 코드 블록의 마지막 값은 자동으로 출력된다고 함"
   ]
  },
  {
   "cell_type": "code",
   "execution_count": null,
   "id": "cc34b647",
   "metadata": {},
   "outputs": [
    {
     "name": "stdout",
     "output_type": "stream",
     "text": [
      "01011112222\n"
     ]
    }
   ],
   "source": [
    "# 25번 문제의 전화번호를 아래와 같이 모두 붙여 출력하세요.\n",
    "\n",
    "phone_number = \"010-1111-2222\"\n",
    "\n",
    "phone_number1 = phone_number.replace(\"-\" , \"\")\n",
    "\n",
    "print(phone_number1)\n",
    "\n",
    "# 왜 변수에 새로 저장을 해야 할까?\n",
    "# 매서드를 사용해도 phone_number 자체는 변하지 않음, 그래서 새로 저장해야 함"
   ]
  },
  {
   "cell_type": "code",
   "execution_count": 12,
   "id": "ce92698d",
   "metadata": {},
   "outputs": [
    {
     "name": "stdout",
     "output_type": "stream",
     "text": [
      "kr\n"
     ]
    }
   ],
   "source": [
    "# url 에 저장된 웹 페이지 주소에서 도메인을 출력하세요.\n",
    "\n",
    "url = \"http://sharebook.kr\"\n",
    "\n",
    "url = \"http://sharebook.kr\"\n",
    "url_split = url.split('.')\n",
    "print(url_split[-1])\n",
    "\n",
    "# 1을 써도 되는데 co.kr 같은 거 있으면 1이 안되니까 -1이 좋다."
   ]
  },
  {
   "cell_type": "code",
   "execution_count": null,
   "id": "9af47e20",
   "metadata": {},
   "outputs": [
    {
     "ename": "TypeError",
     "evalue": "'str' object does not support item assignment",
     "output_type": "error",
     "traceback": [
      "\u001b[1;31m---------------------------------------------------------------------------\u001b[0m",
      "\u001b[1;31mTypeError\u001b[0m                                 Traceback (most recent call last)",
      "Cell \u001b[1;32mIn[14], line 4\u001b[0m\n\u001b[0;32m      1\u001b[0m \u001b[38;5;66;03m# 아래 코드의 실행 결과를 예상해보세요.\u001b[39;00m\n\u001b[0;32m      3\u001b[0m lang \u001b[38;5;241m=\u001b[39m \u001b[38;5;124m'\u001b[39m\u001b[38;5;124mpython\u001b[39m\u001b[38;5;124m'\u001b[39m\n\u001b[1;32m----> 4\u001b[0m \u001b[43mlang\u001b[49m\u001b[43m[\u001b[49m\u001b[38;5;241;43m0\u001b[39;49m\u001b[43m]\u001b[49m \u001b[38;5;241m=\u001b[39m \u001b[38;5;124m'\u001b[39m\u001b[38;5;124mP\u001b[39m\u001b[38;5;124m'\u001b[39m\n\u001b[0;32m      5\u001b[0m \u001b[38;5;28mprint\u001b[39m(lang)\n",
      "\u001b[1;31mTypeError\u001b[0m: 'str' object does not support item assignment"
     ]
    }
   ],
   "source": [
    "# 아래 코드의 실행 결과를 예상해보세요.\n",
    "\n",
    "lang = 'python'\n",
    "lang[0] = 'P'\n",
    "print(lang)\n",
    "\n",
    "# 문자열이 불변인 이유? 메모리 효율성, 안전성 확보(버그가 감소한다.)"
   ]
  },
  {
   "cell_type": "code",
   "execution_count": null,
   "id": "dc084ba6",
   "metadata": {},
   "outputs": [
    {
     "name": "stdout",
     "output_type": "stream",
     "text": [
      "Abcdfe2A354A32A\n"
     ]
    }
   ],
   "source": [
    "# 아래 문자열에서 소문자 'a'를 대문자 'A'로 변경하세요.\n",
    "string = 'abcdfe2a354a32a'\n",
    "string = string.replace('a', 'A')\n",
    "print(string)\n",
    "\n",
    "# 쉬움"
   ]
  },
  {
   "cell_type": "code",
   "execution_count": null,
   "id": "cc18834b",
   "metadata": {},
   "outputs": [
    {
     "name": "stdout",
     "output_type": "stream",
     "text": [
      "abcd\n"
     ]
    }
   ],
   "source": [
    "# 아래 코드의 실행 결과를 예상해보세요.\n",
    "\n",
    "string = 'abcd'\n",
    "string.replace('b', 'B')\n",
    "print(string)\n"
   ]
  }
 ],
 "metadata": {
  "kernelspec": {
   "display_name": "Potenup",
   "language": "python",
   "name": "python3"
  },
  "language_info": {
   "codemirror_mode": {
    "name": "ipython",
    "version": 3
   },
   "file_extension": ".py",
   "mimetype": "text/x-python",
   "name": "python",
   "nbconvert_exporter": "python",
   "pygments_lexer": "ipython3",
   "version": "3.10.18"
  }
 },
 "nbformat": 4,
 "nbformat_minor": 5
}
