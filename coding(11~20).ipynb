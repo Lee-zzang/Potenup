{
 "cells": [
  {
   "cell_type": "code",
   "execution_count": null,
   "id": "7684eff2",
   "metadata": {},
   "outputs": [
    {
     "name": "stdout",
     "output_type": "stream",
     "text": [
      "500000\n"
     ]
    }
   ],
   "source": [
    "# 삼성전자라는 변수로 50,000원을 바인딩해보세요. 삼성전자 주식 10주를 보유하고 있을 때 총 평가금액을 출력하세요.\n",
    "# 문제풀이\n",
    "# 1. 변수 = 데이터 의 형태를 항상 생각해야 한다. 데이터는 변수에 넣어야해\n",
    "# 삼성전자 주식 10주를 보유했을 때 금액은 곱하기 연산을 쓴다.\n",
    "# 변수에 한글을 써도 되는데 왜 영어로 쓸까? 유지보스, 검색편의, 디버깅 어려움 등등\n",
    "\n",
    "Samsung = 50000\n",
    "Total = 50000 * 10\n",
    "print(Total)\n"
   ]
  },
  {
   "cell_type": "code",
   "execution_count": null,
   "id": "e365d105",
   "metadata": {},
   "outputs": [
    {
     "name": "stdout",
     "output_type": "stream",
     "text": [
      "298000000000000 <class 'int'>\n",
      "50000 <class 'int'>\n",
      "15.79 <class 'float'>\n"
     ]
    }
   ],
   "source": [
    "# 다음 표는 삼성전자의 일부 투자정보입니다. 변수를 사용해서 시가총액, 현재가, PER 등을 바인딩해보세요.\n",
    "\n",
    "total = 298000000000000\n",
    "today_price = 50000\n",
    "PER = 15.79\n",
    "\n",
    "print(total, type(total))\n",
    "print(today_price, type(today_price))\n",
    "print(PER, type(PER))\n",
    "\n",
    "# 바인딩? 변수에 값을 연결하거나 할당하는 것\n",
    "# print까지 꼭 같이 하자.\n",
    "# 변수 설정이 귀찮다."
   ]
  },
  {
   "cell_type": "code",
   "execution_count": null,
   "id": "42205da3",
   "metadata": {},
   "outputs": [
    {
     "name": "stdout",
     "output_type": "stream",
     "text": [
      "hello! python\n"
     ]
    }
   ],
   "source": [
    "# 변수 s와 t에는 각각 문자열이 바인딩 되어있습니다.\n",
    "# 두 변수를 이용하여 아래와 같이 출력해보세요\n",
    "# 실행 예: hello! python\n",
    "s = \"hello\"\n",
    "t = \"python\"\n",
    "\n",
    "print(s+\"! \"+t)\n",
    "\n",
    "# 1. end =\"\"가 줄바꿈이지, 공백 없애는게 아니였음\n",
    "# 2. 최대한 간단하게 만들 생각을 계속해야 할 것 같음"
   ]
  },
  {
   "cell_type": "code",
   "execution_count": null,
   "id": "33e9bc0d",
   "metadata": {},
   "outputs": [
    {
     "data": {
      "text/plain": [
       "8"
      ]
     },
     "execution_count": 24,
     "metadata": {},
     "output_type": "execute_result"
    }
   ],
   "source": [
    "# 아래 코드의 실행 결과를 예상해보세요.\n",
    "2 + 2 * 3\n",
    "\n",
    "# 간단한 수학문제.."
   ]
  },
  {
   "cell_type": "code",
   "execution_count": null,
   "id": "bb0dbbdc",
   "metadata": {},
   "outputs": [
    {
     "name": "stdout",
     "output_type": "stream",
     "text": [
      "<class 'str'>\n"
     ]
    }
   ],
   "source": [
    "# 아래 변수에 바인딩된 값의 타입을 판별해보세요.\n",
    "\n",
    "a = \"132\"\n",
    "print(type(a))\n",
    "\n",
    "\n",
    "# 1. 왜 type()을 print()안에 또 넣는지 궁금했다.\n",
    "# 2. print() 함수 안에 type()를 받아들일 수 있다는 것을 그냥 받아들이자"
   ]
  },
  {
   "cell_type": "code",
   "execution_count": null,
   "id": "9ca5e3cc",
   "metadata": {},
   "outputs": [
    {
     "name": "stdout",
     "output_type": "stream",
     "text": [
      "<class 'str'>\n",
      "<class 'str'>\n"
     ]
    }
   ],
   "source": [
    "#. 정수 100을 문자열 '100'으로 변환해보세요.\n",
    "# 1. 숫자 사이에 \"\", '' 을 넣으면 되나? \n",
    "\n",
    "num = 100\n",
    "num = \"100\"\n",
    "print(type(num))\n",
    "result = str(num) \n",
    "print(type(result))\n",
    "\n",
    "#. 라고 생각했는데 다른 방법들이 또 있었다...\n",
    "# 2. 첫번째는 str(num)을 변수로 재설정 두번째는 포매팅 f\"{num} 사용\n",
    "# 3. 굳이 이렇게까지 써야하나 싶다."
   ]
  },
  {
   "cell_type": "code",
   "execution_count": null,
   "id": "5cd9602e",
   "metadata": {},
   "outputs": [
    {
     "name": "stdout",
     "output_type": "stream",
     "text": [
      "<class 'float'>\n"
     ]
    }
   ],
   "source": [
    "#. 문자열 \"15.79\"를 실수(float) 타입으로 변환해보세요.\n",
    "\n",
    "num1 = \"15.79\"\n",
    "num2 = 15.79\n",
    "\n",
    "print(type(num2))\n",
    "\n",
    "# float() 함수도 있다는 것만 알아두자."
   ]
  },
  {
   "cell_type": "code",
   "execution_count": 9,
   "id": "56bc0cc6",
   "metadata": {},
   "outputs": [
    {
     "name": "stdout",
     "output_type": "stream",
     "text": [
      "2017\n",
      "2018\n",
      "2019\n"
     ]
    }
   ],
   "source": [
    "# year라는 변수가 문자열 타입의 연도를 바인딩하고 있습니다. 이를 정수로 변환한 후 최근 3년의 연도를 화면에 출력해보세요.\n",
    "# 1. 문자열을 정수로 변환   2. 이전 3년도 타이핑 출력인가?\n",
    "\n",
    "year = \"2020\"\n",
    "print(int(year)-3)\n",
    "print(int(year)-2)\n",
    "print(int(year)-1)\n",
    "\n",
    "# 문자열이더라도 str(), int()에 넣으면 형태가 변한다는 사실을 알았다."
   ]
  },
  {
   "cell_type": "code",
   "execution_count": null,
   "id": "d7ec9a44",
   "metadata": {},
   "outputs": [],
   "source": [
    "# 에이컨이 월 48,584원에 무이자 36개월의 조건으로 홈쇼핑에서 판매되고 있습니다. \n",
    "# 총 금액은 계산한 후 이를 화면에 출력해보세요. (변수사용하기)\n",
    "\n",
    "월 = 48584\n",
    "총금액 = 월 * 36\n",
    "print(총금액)\n",
    "\n",
    "# 문제를 너무 꼬아서 생각하는 습관도 버려야겠다."
   ]
  }
 ],
 "metadata": {
  "kernelspec": {
   "display_name": "Potenup",
   "language": "python",
   "name": "python3"
  },
  "language_info": {
   "codemirror_mode": {
    "name": "ipython",
    "version": 3
   },
   "file_extension": ".py",
   "mimetype": "text/x-python",
   "name": "python",
   "nbconvert_exporter": "python",
   "pygments_lexer": "ipython3",
   "version": "3.10.18"
  }
 },
 "nbformat": 4,
 "nbformat_minor": 5
}
