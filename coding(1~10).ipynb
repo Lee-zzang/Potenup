{
 "cells": [
  {
   "cell_type": "code",
   "execution_count": null,
   "id": "cd62853f",
   "metadata": {},
   "outputs": [
    {
     "name": "stdout",
     "output_type": "stream",
     "text": [
      "Hello World\n"
     ]
    }
   ],
   "source": [
    "# 001. print 기초\n",
    "# print \n",
    "\n",
    "print(\"Hello World\")"
   ]
  },
  {
   "cell_type": "code",
   "execution_count": null,
   "id": "613254f4",
   "metadata": {},
   "outputs": [
    {
     "name": "stdout",
     "output_type": "stream",
     "text": [
      "Mary's cosmetics\n"
     ]
    }
   ],
   "source": [
    "# 002. print 기초\n",
    "# print, 큰따옴표와 작은따옴표 사용\n",
    "\n",
    "print(\"Mary's cosmetics\")\n"
   ]
  },
  {
   "cell_type": "code",
   "execution_count": 4,
   "id": "2d5507f6",
   "metadata": {},
   "outputs": [
    {
     "name": "stdout",
     "output_type": "stream",
     "text": [
      "신씨가 소리질렀다. \"도둑이야\".\n"
     ]
    }
   ],
   "source": [
    "# 003. print 기초\n",
    "# \"\" 가 문자임을 표시하는 \\ 활용\n",
    "\n",
    "print(\"신씨가 소리질렀다. \\\"도둑이야\\\".\")"
   ]
  },
  {
   "cell_type": "code",
   "execution_count": null,
   "id": "9d9b639b",
   "metadata": {},
   "outputs": [
    {
     "name": "stdout",
     "output_type": "stream",
     "text": [
      "C:\\Windows\n"
     ]
    }
   ],
   "source": [
    "#004. print 기초\n",
    "\n",
    "print(\"C:\\Windows\")"
   ]
  },
  {
   "cell_type": "code",
   "execution_count": null,
   "id": "b411dba1",
   "metadata": {},
   "outputs": [
    {
     "name": "stdout",
     "output_type": "stream",
     "text": [
      "안녕하세요. \n",
      "만나서\t\t반갑습니다.\n"
     ]
    }
   ],
   "source": [
    "#005. print 탭과 줄바꿈\n",
    "#\\n은 줄바꿈, \\t 탭입니다.\n",
    "\n",
    "print(\"안녕하세요. \\n만나서\\t\\t반갑습니다.\")"
   ]
  },
  {
   "cell_type": "code",
   "execution_count": 7,
   "id": "2c4d9686",
   "metadata": {},
   "outputs": [
    {
     "name": "stdout",
     "output_type": "stream",
     "text": [
      "오늘은 일요일\n"
     ]
    }
   ],
   "source": [
    "#006. prnt 여러 데이터 출력\n",
    "\n",
    "print(\"오늘은\", \"일요일\")"
   ]
  },
  {
   "cell_type": "code",
   "execution_count": null,
   "id": "dcc8d776",
   "metadata": {},
   "outputs": [
    {
     "name": "stdout",
     "output_type": "stream",
     "text": [
      "naver;kakao;samsung\n"
     ]
    }
   ],
   "source": [
    "#007. print 기초\n",
    "#세미콜론은 어떻게 하는걸까? 왜 sep 인자를 쓰는걸까?\n",
    "# seperator는 구분자라는 뜻이다.\n",
    "\n",
    "print(\"naver\",\"kakao\",\"samsung\", sep=\";\")\n"
   ]
  },
  {
   "cell_type": "code",
   "execution_count": null,
   "id": "db3105dd",
   "metadata": {},
   "outputs": [
    {
     "name": "stdout",
     "output_type": "stream",
     "text": [
      "naver/kakao/sk/samsung\n"
     ]
    }
   ],
   "source": [
    "#008. print 기초\n",
    "# 7번의 sep을 활용한다.\n",
    "\n",
    "print(\"naver\",\"kakao\",\"sk\",\"samsung\", sep=\"/\")"
   ]
  },
  {
   "cell_type": "code",
   "execution_count": null,
   "id": "e160f785",
   "metadata": {},
   "outputs": [
    {
     "name": "stdout",
     "output_type": "stream",
     "text": [
      "firstsecond\n"
     ]
    }
   ],
   "source": [
    "#009. print 줄바꿈\n",
    "# 다음 코드를 수정하여 줄바꿈이 없이 출력하세요. (힌트: end=\") print 함수는 두 번 사용합니다. \n",
    "# 1.세미콜론(;)은 한줄에 여러 개의 명령을 작성하기 위해 사용합니다.\n",
    "# 2.기본적으로 아무것도 치지 않으면 \\n 으로써 한칸 띄어쓰게 된다.\n",
    "# 3. end=\"\" 를 넣어줌으로써, 줄바꿈을 없애주고, ; 을 통해 한줄로 쓰게 만듬\n",
    "# 4. print(\"first\", end=\"\")\n",
    "#    print(\"second\")   이렇게 해도 되는데.. 굳이... \n",
    "\n",
    "print(\"first\", end=\"\"); print(\"second\")\n"
   ]
  },
  {
   "cell_type": "code",
   "execution_count": 15,
   "id": "ba26bc17",
   "metadata": {},
   "outputs": [
    {
     "name": "stdout",
     "output_type": "stream",
     "text": [
      "1.6666666666666667\n"
     ]
    }
   ],
   "source": [
    "# 100. 연산 결과 출력\n",
    "# 5/3의 결과를 화면에 출력하세요\n",
    "\n",
    "print(5/3)"
   ]
  }
 ],
 "metadata": {
  "kernelspec": {
   "display_name": "Potenup",
   "language": "python",
   "name": "python3"
  },
  "language_info": {
   "codemirror_mode": {
    "name": "ipython",
    "version": 3
   },
   "file_extension": ".py",
   "mimetype": "text/x-python",
   "name": "python",
   "nbconvert_exporter": "python",
   "pygments_lexer": "ipython3",
   "version": "3.10.18"
  }
 },
 "nbformat": 4,
 "nbformat_minor": 5
}
